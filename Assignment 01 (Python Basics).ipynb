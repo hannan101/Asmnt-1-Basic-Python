{
 "cells": [
  {
   "cell_type": "markdown",
   "metadata": {},
   "source": [
    "# Part -1 Python Basics (Variables)"
   ]
  },
  {
   "cell_type": "markdown",
   "metadata": {},
   "source": [
    "1. Print Your Name with your Father name and Date of birth using suitable escape sequence charactor"
   ]
  },
  {
   "cell_type": "code",
   "execution_count": null,
   "metadata": {},
   "outputs": [],
   "source": [
    "name = \"Abdul Hannan Shaikh\"\n",
    "fathername = \"M. Zaki\"\n",
    "dob = \"oct, 23, 2003\"\n",
    "print(f\"I am {name} \\nMy father name is {fathername} \\nMy date of birth is{dob}\")  "
   ]
  },
  {
   "cell_type": "markdown",
   "metadata": {},
   "source": [
    "2. Write your small bio using variables and print it using print function"
   ]
  },
  {
   "cell_type": "code",
   "execution_count": null,
   "metadata": {},
   "outputs": [],
   "source": [
    "mybio = \"I am Hannan and I am pursuing Data engineering at SMIT \"\n",
    "print(mybio)"
   ]
  },
  {
   "cell_type": "markdown",
   "metadata": {},
   "source": [
    "3. Write a program in which use all the operators we can use in Python"
   ]
  },
  {
   "cell_type": "code",
   "execution_count": null,
   "metadata": {},
   "outputs": [],
   "source": [
    "# Arithmetic operators\n",
    "a = 10\n",
    "b = 5\n",
    "\n",
    "print(\"Arithmetic Operators\")\n",
    "print(f\"a + b = {a + b}\")  # Addition\n",
    "print(f\"a - b = {a - b}\")  # Subtraction\n",
    "print(f\"a * b = {a * b}\")  # Multiplication\n",
    "print(f\"a / b = {a / b}\")  # Division\n",
    "print(f\"a % b = {a % b}\")  # Modulus\n",
    "print(f\"a ** b = {a ** b}\")  # Exponentiation\n",
    "print(f\"a // b = {a // b}\")  # Floor Division\n",
    "print()\n",
    "\n",
    "# Comparison operators\n",
    "print(\"Comparison Operators\")\n",
    "print(f\"a == b: {a == b}\")  # Equal\n",
    "print(f\"a != b: {a != b}\")  # Not equal\n",
    "print(f\"a > b: {a > b}\")  # Greater than\n",
    "print(f\"a < b: {a < b}\")  # Less than\n",
    "print(f\"a >= b: {a >= b}\")  # Greater than or equal to\n",
    "print(f\"a <= b: {a <= b}\")  # Less than or equal to\n",
    "print()\n",
    "\n",
    "# Logical operators\n",
    "x = True\n",
    "y = False\n",
    "\n",
    "print(\"Logical Operators\")\n",
    "print(f\"x and y: {x and y}\")  # Logical AND\n",
    "print(f\"x or y: {x or y}\")  # Logical OR\n",
    "print(f\"not x: {not x}\")  # Logical NOT\n",
    "print()\n",
    "\n",
    "\n",
    "\n",
    "# Assignment operators\n",
    "print(\"Assignment Operators\")\n",
    "c = a + b\n",
    "print(f\"c = a + b: {c}\")\n",
    "c += a\n",
    "print(f\"c += a: {c}\")\n",
    "c -= a\n",
    "print(f\"c -= a: {c}\")\n",
    "c *= a\n",
    "print(f\"c *= a: {c}\")\n",
    "c /= a\n",
    "print(f\"c /= a: {c}\")\n",
    "c %= a\n",
    "print(f\"c %= a: {c}\")\n",
    "c **= b\n",
    "print(f\"c **= b: {c}\")\n",
    "c //= b\n",
    "print(f\"c //= b: {c}\")\n",
    "print()\n",
    "\n",
    "# Identity operators\n",
    "print(\"Identity Operators\")\n",
    "print(f\"a is b: {a is b}\")\n",
    "print(f\"a is not b: {a is not b}\")\n",
    "print()\n",
    "\n",
    "# Membership operators\n",
    "list1 = [1, 2, 3, 4, 5]\n",
    "\n",
    "print(\"Membership Operators\")\n",
    "print(f\"2 in list1: {2 in list1}\")\n",
    "print(f\"6 in list1: {6 in list1}\")\n",
    "print(f\"2 not in list1: {2 not in list1}\")\n",
    "print(f\"6 not in list1: {6 not in list1}\")\n",
    "print()\n"
   ]
  },
  {
   "cell_type": "markdown",
   "metadata": {},
   "source": [
    "4. Completes the following steps of small task:\n",
    "    - Mention Marks of English , Islamiat and Maths out of 100 in 3 different variables\n",
    "    - Mention Variable of Total Marks and assign 300 to it\n",
    "    - Calculate Percentage"
   ]
  },
  {
   "cell_type": "code",
   "execution_count": null,
   "metadata": {},
   "outputs": [],
   "source": [
    "\n",
    "english = 80\n",
    "islamiat = 75\n",
    "maths = 90\n",
    "\n",
    "\n",
    "total_marks = 300\n",
    "\n",
    "\n",
    "total_marks_obtained = english + islamiat + maths\n",
    "\n",
    "\n",
    "percentage = (total_marks_obtained / total_marks) * 100\n",
    "\n",
    "print(\"English:\", english)\n",
    "print(\"Islamiat:\", islamiat)\n",
    "print(\"Maths:\", maths)\n",
    "print(\"Total Marks:\", total_marks)\n",
    "print(\"Percentage:\", percentage)\n"
   ]
  },
  {
   "cell_type": "markdown",
   "metadata": {},
   "source": [
    "# Part -2 Python Basics (Conditional Statements)"
   ]
  },
  {
   "cell_type": "markdown",
   "metadata": {},
   "source": [
    "1) A company decided to give bonus of 5% to employee if his/her year of service is more than 5 years.\n",
    "Ask user for their salary and year of service and print the net bonus amount."
   ]
  },
  {
   "cell_type": "code",
   "execution_count": 6,
   "metadata": {},
   "outputs": [],
   "source": [
    "salary = int(input(f\"Enter your salary:\"))\n",
    "service_year = int(input(\"Enter year of service\"))\n",
    "if service_year >5:\n",
    "    print(f\"Your bonus is {5/100*salary}\")     \n",
    "else:\n",
    "    print(f\"You are not elgible for bonus ...!!!\")"
   ]
  },
  {
   "cell_type": "markdown",
   "metadata": {},
   "source": [
    "\n",
    "2) Write a program to check whether a person is eligible for voting or not. (accept age from user) if age is greater than 17 eligible otherwise not eligible"
   ]
  },
  {
   "cell_type": "code",
   "execution_count": 7,
   "metadata": {},
   "outputs": [],
   "source": [
    "voter_age = int(input(f\"Enter your age for voting\")) \n",
    "if voter_age>17:\n",
    "    print(f\"You are eligible for vote\")\n",
    "else:\n",
    "    print(f\"You are not elegible for vote\") "
   ]
  },
  {
   "cell_type": "markdown",
   "metadata": {},
   "source": [
    "\n",
    "3) Write a program to check whether a number entered by user is even or odd."
   ]
  },
  {
   "cell_type": "code",
   "execution_count": 8,
   "metadata": {},
   "outputs": [],
   "source": [
    "number = int(input(f\"Enter number:\"))\n",
    "if number%2 ==0:\n",
    "    print(f\"Even number\")\n",
    "else:\n",
    "    print(f\"Odd\")"
   ]
  },
  {
   "cell_type": "markdown",
   "metadata": {},
   "source": [
    "4) Write a program to check whether a number is divisible by 7 or not.\n",
    "Show Answer"
   ]
  },
  {
   "cell_type": "code",
   "execution_count": 9,
   "metadata": {},
   "outputs": [],
   "source": [
    "# Part 2 Q.4\n",
    "number = int(input(\"Enter a number: \"))\n",
    "if number % 7 == 0:\n",
    "    print(f\"The number {number} is divisible by 7.\")\n",
    "else:\n",
    "    print(f\"The number {number} is not divisible by 7.\")"
   ]
  },
  {
   "cell_type": "markdown",
   "metadata": {},
   "source": [
    "5) Write a program to display \n",
    "\"Hello\" if a number entered by user is a multiple of five , otherwise print \"Bye\"."
   ]
  },
  {
   "cell_type": "code",
   "execution_count": 11,
   "metadata": {},
   "outputs": [],
   "source": [
    "# part 2 Q.5\n",
    "number = int(input(\"Enter Number: \"))\n",
    "if number % 5 == 0:\n",
    "        print(\"Hello\")\n",
    "else:\n",
    "    print(\"Bye\")\n",
    "    "
   ]
  },
  {
   "cell_type": "markdown",
   "metadata": {},
   "source": [
    "7) Write a program to display the last digit of a number.\n"
   ]
  },
  {
   "cell_type": "code",
   "execution_count": 12,
   "metadata": {},
   "outputs": [],
   "source": [
    "# 7. Last digit of number \n",
    "num = \"03313267542\"\n",
    "print(num[10])"
   ]
  },
  {
   "cell_type": "markdown",
   "metadata": {},
   "source": [
    "9) Take values of length and breadth of a rectangle from user and print if it is square or rectangle."
   ]
  },
  {
   "cell_type": "code",
   "execution_count": 14,
   "metadata": {},
   "outputs": [],
   "source": [
    "# 8. Take values of length and breadth of a rectangle from user and print if it is square or rectangle.\n",
    "length = float(input(f\"Enter length\"))\n",
    "breadth = float(input(\"Enter breadth\"))\n",
    "if length == breadth:\n",
    "    print(f\"It is a Square\")\n",
    "else:\n",
    "    print(f\"Its a Rectangle\")"
   ]
  },
  {
   "cell_type": "markdown",
   "metadata": {},
   "source": [
    "10) Take two int values from user and print greatest among them."
   ]
  },
  {
   "cell_type": "code",
   "execution_count": 15,
   "metadata": {},
   "outputs": [],
   "source": [
    "# 9. Take two int values from user and print greatest among them.\n",
    "num1 = int(input(\"Enter num1:\"))\n",
    "num2 = int(input(\"Enter num2:\"))\n",
    "if num1 > num2:\n",
    "    print(f\"The {num1} is greater than {num2}\")\n",
    "\n",
    "else:\n",
    "    print(f\"{num2} is greater than {num1}\")"
   ]
  },
  {
   "cell_type": "markdown",
   "metadata": {},
   "source": [
    "11) A shop will give discount of 10% if the cost of purchased quantity is more than 1000.\n",
    "Ask user for quantity\n",
    "Suppose, one unit will cost 100.\n",
    "Judge and print total cost for user."
   ]
  },
  {
   "cell_type": "code",
   "execution_count": 16,
   "metadata": {},
   "outputs": [],
   "source": [
    "# 11. A shop will give discount of 10% if the cost of purchased quantity is more than 1000. Ask user for quantity Suppose, one unit will cost 100. Judge and print total cost for user.\n",
    "quantity = int(input(\"Enter the quatity what you want:\"))\n",
    "single_cost = 100\n",
    "total_cost = quantity*single_cost\n",
    "percentage_value = (10 / 100) * total_cost \n",
    "if total_cost >= 100100:\n",
    "    print(f\"Your total cost with discount is{ total_cost-percentage_value}\") \n",
    "else:\n",
    "    print(f\"Your total cost is {quantity*single_cost}\") "
   ]
  },
  {
   "cell_type": "markdown",
   "metadata": {},
   "source": [
    "12) A school has following rules for grading system:\n",
    "\n",
    "a. Below 25 - F\n",
    "\n",
    "b. 25 to 45 - E\n",
    "\n",
    "c. 45 to 50 - D\n",
    "\n",
    "d. 50 to 60 - C\n",
    "\n",
    "e. 60 to 80 - B\n",
    "\n",
    "f. Above 80 - A\n",
    "\n",
    "Ask user to enter marks and print the corresponding grade."
   ]
  },
  {
   "cell_type": "code",
   "execution_count": 2,
   "metadata": {},
   "outputs": [],
   "source": [
    "# 12. A school has following rules for grading system:\n",
    "marks = float(input(\"Enter your marks: \"))\n",
    "\n",
    "if marks < 25:\n",
    "    print(\"Your grade is F\")\n",
    "elif marks < 45:\n",
    "    print(\"Your grade is E\")\n",
    "elif marks < 50:\n",
    "    print(\"Your grade is D\")\n",
    "elif marks < 60:\n",
    "    print(\"Your grade is C\")\n",
    "elif marks < 80:\n",
    "    print(\"Your grade is B\")\n",
    "else:\n",
    "    print(\"Your grade is A\")"
   ]
  },
  {
   "cell_type": "markdown",
   "metadata": {},
   "source": [
    "14)A student will not be allowed to sit in exam if his/her attendence is less than 75%.\n",
    "\n",
    "Take following input from user\n",
    "\n",
    "- Number of classes held\n",
    "\n",
    "- Number of classes attended.\n",
    "\n",
    "And print\n",
    "\n",
    "- percentage of class attended\n",
    "\n",
    "- Is student is allowed to sit in exam or not.\n"
   ]
  },
  {
   "cell_type": "code",
   "execution_count": 19,
   "metadata": {},
   "outputs": [],
   "source": [
    "# 14, A student will not be allowed to sit in exam if his/her attendence is less than 75%.\n",
    "class_held = int(input(f\"Enter Number of classes held:\"))\n",
    "classes_attended = int(input(f\"Enter Number of classes attended:\"))\n",
    "percentage = 75/100*class_held\n",
    "if classes_attended >= percentage:\n",
    "    print(f\"You can join Examination\")\n",
    "else:\n",
    "    print(f\"You are not allowed\") "
   ]
  },
  {
   "cell_type": "markdown",
   "metadata": {},
   "source": [
    "15) Modify the above question to allow student to sit if he/she has medical cause. Ask user if he/she has medical cause or not ( 'Y' or 'N' ) and print accordingly."
   ]
  },
  {
   "cell_type": "code",
   "execution_count": 20,
   "metadata": {},
   "outputs": [],
   "source": [
    "# 15. Modify the above question to allow student to sit if he/she has medical cause. Ask user if he/she has medical cause or not ( 'Y' or 'N' ) and print accordingly.\n",
    "class_held = int(input(f\"Enter Number of classes held:\"))\n",
    "classes_attended = int(input(f\"Enter Number of classes attended:\"))\n",
    "if_medical_cause = input(f\"Have you any medical issue: (y/n)\")\n",
    "percentage = 75/100*class_held\n",
    "if classes_attended >= percentage:\n",
    "    print(f\"You can join Examination\") \n",
    "elif if_medical_cause == \"y\":\n",
    "    print(f\"You can sit in examination\")\n",
    "else:\n",
    "    print(f\"You are not allowed\") "
   ]
  },
  {
   "cell_type": "markdown",
   "metadata": {},
   "source": [
    "16) Write a program to check if a year is leap year or not.\n",
    "\n",
    "If a year is divisible by 4 then it is leap year but if the year is century year like 2000, 1900, 2100 then it must be divisible by 400."
   ]
  },
  {
   "cell_type": "code",
   "execution_count": 21,
   "metadata": {},
   "outputs": [],
   "source": [
    "def is_leap_year(year):\n",
    "    if year % 4 == 0:\n",
    "        if year % 100 == 0:\n",
    "            if year % 400 == 0:\n",
    "                return True\n",
    "            else:\n",
    "                return False\n",
    "        else:\n",
    "            return True\n",
    "    else:\n",
    "        return False\n",
    "\n",
    "year = int(input(\"Enter a year: \"))\n",
    "if is_leap_year(year):\n",
    "    print(f\"{year} is a leap year.\")\n",
    "else:\n",
    "    print(f\"{year} is not a leap year.\")"
   ]
  },
  {
   "cell_type": "markdown",
   "metadata": {},
   "source": [
    "17) Ask user to enter age, gender ( M or F ), marital status ( Y or N ) and then using following rules print their place of service.\n",
    "\n",
    "if employee is female, then she will work only in urban areas.\n",
    "\n",
    "if employee is a male and age is in between 20 to 40 then he may work in anywhere\n",
    "\n",
    "if employee is male and age is in between 40 t0 60 then he will work in urban areas only.\n",
    "\n",
    "And any other input of age should print \"ERROR\""
   ]
  },
  {
   "cell_type": "code",
   "execution_count": 22,
   "metadata": {},
   "outputs": [],
   "source": [
    "# 17.\n",
    "gender = input(\"Enter your gender(female/male):\")\n",
    "age = int(input(f\"Enter your age:\"))\n",
    "if gender == \"female\":\n",
    "    print(f\"You will work only in urban areas.\")\n",
    "elif gender == \"male\" and  age >= 20 or age <= 40:\n",
    "    print(f\"You may work in anywhere\")\n",
    "elif gender == \"male\" and age >= 40 or age <= 60:\n",
    "    print(f\"You will work in urban areas only.\")\n",
    "else:\n",
    "    print(f\"ERROR\") "
   ]
  },
  {
   "cell_type": "markdown",
   "metadata": {},
   "source": [
    "6) Write a program to calculate the electricity bill (accept number of unit from user) according to the following criteria :\n",
    "     Unit                                                     Price  \n",
    "uptp 100 units                                             no charge\n",
    "Next 200 units                                              Rs 5 per unit\n",
    "After 200 units                                             Rs 10 per unit\n",
    "(For example if input unit is 350 than total bill amount is Rs.3500\n",
    "(For example if input unit is 97 than total bill amount is Rs.0\n",
    "(For example if input unit is 150 than total bill amount is Rs.750"
   ]
  },
  {
   "cell_type": "code",
   "execution_count": null,
   "metadata": {},
   "outputs": [],
   "source": [
    "''' 6. Write a program to calculate the electricity bill (accept number of unit from user) according to the following criteria : Unit Price\n",
    "uptp 100 units no charge Next 200 units Rs 5 per unit After 200 units Rs 10 per unit (For example if input unit is 350 than total bill amount is Rs.3500 (For example if input unit is 97 than total bill amount is Rs.0 (For example if input unit is 150 than total bill amount is Rs.750 '''\n",
    "\n",
    "unit = int(input(\"Enter the bill unit: \"))\n",
    "\n",
    "if unit <= 100:\n",
    "    charges = 0\n",
    "elif 100 < unit <= 200:\n",
    "    charges = unit*5\n",
    "else:\n",
    "    charges = unit*10 \n",
    "\n",
    "print(charges) "
   ]
  },
  {
   "cell_type": "markdown",
   "metadata": {},
   "source": [
    "13) Take input of age of 3 people by user and determine oldest and youngest among them."
   ]
  },
  {
   "cell_type": "code",
   "execution_count": 18,
   "metadata": {},
   "outputs": [],
   "source": [
    "#13. Take input of age of 3 people by user and determine oldest and youngest among them.\n",
    "age1 = int(input(\"Enter the age of the first person: \"))\n",
    "age2 = int(input(\"Enter the age of the second person: \"))\n",
    "age3 = int(input(\"Enter the age of the third person: \"))\n",
    "\n",
    "if age1 >= age2:\n",
    "    if age1 >= age3:\n",
    "        oldest = age1\n",
    "    else:\n",
    "        oldest = age3\n",
    "else:\n",
    "    if age2 >= age3:\n",
    "        oldest = age2\n",
    "    else:\n",
    "        oldest = age3\n",
    "\n",
    "if age1 <= age2:\n",
    "    if age1 <= age3:\n",
    "        youngest = age1\n",
    "    else:\n",
    "        youngest = age3\n",
    "else:\n",
    "    if age2 <= age3:\n",
    "        youngest = age2\n",
    "    else:\n",
    "        youngest = age3\n",
    "\n",
    "# Result\n",
    "print(f\"The oldest age is: {oldest}\")\n",
    "print(f\"The youngest age is: {youngest}\")"
   ]
  }
 ],
 "metadata": {
  "kernelspec": {
   "display_name": "Python 3 (ipykernel)",
   "language": "python",
   "name": "python3"
  },
  "language_info": {
   "codemirror_mode": {
    "name": "ipython",
    "version": 3
   },
   "file_extension": ".py",
   "mimetype": "text/x-python",
   "name": "python",
   "nbconvert_exporter": "python",
   "pygments_lexer": "ipython3",
   "version": "3.11.5"
  }
 },
 "nbformat": 4,
 "nbformat_minor": 2
}
